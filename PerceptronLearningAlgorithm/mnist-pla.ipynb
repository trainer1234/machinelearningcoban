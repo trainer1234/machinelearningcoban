{
 "cells": [
  {
   "cell_type": "markdown",
   "metadata": {},
   "source": [
    "$$ \\Huge Perceptron ~ Learning ~ Algorithm $$\n",
    "$$Minh ~ Kha$$"
   ]
  },
  {
   "cell_type": "code",
   "execution_count": 1,
   "metadata": {},
   "outputs": [],
   "source": [
    "%matplotlib inline"
   ]
  },
  {
   "cell_type": "code",
   "execution_count": 2,
   "metadata": {},
   "outputs": [],
   "source": [
    "from IPython.display import clear_output\n",
    "import pandas as pd\n",
    "import numpy as np\n",
    "import matplotlib.pyplot as plt\n",
    "import time\n",
    "from sklearn.model_selection import train_test_split"
   ]
  },
  {
   "cell_type": "code",
   "execution_count": 3,
   "metadata": {},
   "outputs": [
    {
     "name": "stdout",
     "output_type": "stream",
     "text": [
      "Training set has 42000 rows and 785 columns\n",
      "Test set has 28000 rows and 784 columns\n"
     ]
    }
   ],
   "source": [
    "train = pd.read_csv(\"handwritten/train.csv\")\n",
    "test  = pd.read_csv(\"handwritten/test.csv\")\n",
    "\n",
    "print(\"Training set has {0[0]} rows and {0[1]} columns\".format(train.shape))\n",
    "print(\"Test set has {0[0]} rows and {0[1]} columns\".format(test.shape))"
   ]
  },
  {
   "cell_type": "markdown",
   "metadata": {},
   "source": [
    "### Filter zero and one digit in train data"
   ]
  },
  {
   "cell_type": "code",
   "execution_count": 5,
   "metadata": {},
   "outputs": [
    {
     "name": "stdout",
     "output_type": "stream",
     "text": [
      "(8816, 785)\n"
     ]
    }
   ],
   "source": [
    "train = train.loc[train.label <= 1]\n",
    "print(train.shape)"
   ]
  },
  {
   "cell_type": "markdown",
   "metadata": {},
   "source": [
    "### Replace label of zero digits to -1"
   ]
  },
  {
   "cell_type": "code",
   "execution_count": 6,
   "metadata": {},
   "outputs": [
    {
     "name": "stdout",
     "output_type": "stream",
     "text": [
      "       label  pixel0  pixel1  pixel2  pixel3  pixel4  pixel5  pixel6  pixel7  \\\n",
      "0          1       0       0       0       0       0       0       0       0   \n",
      "1         -1       0       0       0       0       0       0       0       0   \n",
      "2          1       0       0       0       0       0       0       0       0   \n",
      "4         -1       0       0       0       0       0       0       0       0   \n",
      "5         -1       0       0       0       0       0       0       0       0   \n",
      "12         1       0       0       0       0       0       0       0       0   \n",
      "15         1       0       0       0       0       0       0       0       0   \n",
      "17        -1       0       0       0       0       0       0       0       0   \n",
      "23        -1       0       0       0       0       0       0       0       0   \n",
      "35         1       0       0       0       0       0       0       0       0   \n",
      "37         1       0       0       0       0       0       0       0       0   \n",
      "38         1       0       0       0       0       0       0       0       0   \n",
      "41         1       0       0       0       0       0       0       0       0   \n",
      "52         1       0       0       0       0       0       0       0       0   \n",
      "54        -1       0       0       0       0       0       0       0       0   \n",
      "59         1       0       0       0       0       0       0       0       0   \n",
      "60         1       0       0       0       0       0       0       0       0   \n",
      "61         1       0       0       0       0       0       0       0       0   \n",
      "63        -1       0       0       0       0       0       0       0       0   \n",
      "68         1       0       0       0       0       0       0       0       0   \n",
      "69        -1       0       0       0       0       0       0       0       0   \n",
      "77         1       0       0       0       0       0       0       0       0   \n",
      "79         1       0       0       0       0       0       0       0       0   \n",
      "96         1       0       0       0       0       0       0       0       0   \n",
      "98        -1       0       0       0       0       0       0       0       0   \n",
      "108       -1       0       0       0       0       0       0       0       0   \n",
      "110       -1       0       0       0       0       0       0       0       0   \n",
      "111       -1       0       0       0       0       0       0       0       0   \n",
      "114       -1       0       0       0       0       0       0       0       0   \n",
      "118        1       0       0       0       0       0       0       0       0   \n",
      "...      ...     ...     ...     ...     ...     ...     ...     ...     ...   \n",
      "41866      1       0       0       0       0       0       0       0       0   \n",
      "41876     -1       0       0       0       0       0       0       0       0   \n",
      "41878      1       0       0       0       0       0       0       0       0   \n",
      "41880      1       0       0       0       0       0       0       0       0   \n",
      "41882      1       0       0       0       0       0       0       0       0   \n",
      "41886     -1       0       0       0       0       0       0       0       0   \n",
      "41889      1       0       0       0       0       0       0       0       0   \n",
      "41896      1       0       0       0       0       0       0       0       0   \n",
      "41898     -1       0       0       0       0       0       0       0       0   \n",
      "41899      1       0       0       0       0       0       0       0       0   \n",
      "41904      1       0       0       0       0       0       0       0       0   \n",
      "41911      1       0       0       0       0       0       0       0       0   \n",
      "41923      1       0       0       0       0       0       0       0       0   \n",
      "41926      1       0       0       0       0       0       0       0       0   \n",
      "41930     -1       0       0       0       0       0       0       0       0   \n",
      "41932      1       0       0       0       0       0       0       0       0   \n",
      "41933      1       0       0       0       0       0       0       0       0   \n",
      "41936      1       0       0       0       0       0       0       0       0   \n",
      "41938      1       0       0       0       0       0       0       0       0   \n",
      "41939      1       0       0       0       0       0       0       0       0   \n",
      "41951      1       0       0       0       0       0       0       0       0   \n",
      "41952      1       0       0       0       0       0       0       0       0   \n",
      "41954      1       0       0       0       0       0       0       0       0   \n",
      "41960      1       0       0       0       0       0       0       0       0   \n",
      "41968     -1       0       0       0       0       0       0       0       0   \n",
      "41986     -1       0       0       0       0       0       0       0       0   \n",
      "41988     -1       0       0       0       0       0       0       0       0   \n",
      "41991      1       0       0       0       0       0       0       0       0   \n",
      "41995     -1       0       0       0       0       0       0       0       0   \n",
      "41996      1       0       0       0       0       0       0       0       0   \n",
      "\n",
      "       pixel8    ...     pixel774  pixel775  pixel776  pixel777  pixel778  \\\n",
      "0           0    ...            0         0         0         0         0   \n",
      "1           0    ...            0         0         0         0         0   \n",
      "2           0    ...            0         0         0         0         0   \n",
      "4           0    ...            0         0         0         0         0   \n",
      "5           0    ...            0         0         0         0         0   \n",
      "12          0    ...            0         0         0         0         0   \n",
      "15          0    ...            0         0         0         0         0   \n",
      "17          0    ...            0         0         0         0         0   \n",
      "23          0    ...            0         0         0         0         0   \n",
      "35          0    ...            0         0         0         0         0   \n",
      "37          0    ...            0         0         0         0         0   \n",
      "38          0    ...            0         0         0         0         0   \n",
      "41          0    ...            0         0         0         0         0   \n",
      "52          0    ...            0         0         0         0         0   \n",
      "54          0    ...            0         0         0         0         0   \n",
      "59          0    ...            0         0         0         0         0   \n",
      "60          0    ...            0         0         0         0         0   \n",
      "61          0    ...            0         0         0         0         0   \n",
      "63          0    ...            0         0         0         0         0   \n",
      "68          0    ...            0         0         0         0         0   \n",
      "69          0    ...            0         0         0         0         0   \n",
      "77          0    ...            0         0         0         0         0   \n",
      "79          0    ...            0         0         0         0         0   \n",
      "96          0    ...            0         0         0         0         0   \n",
      "98          0    ...            0         0         0         0         0   \n",
      "108         0    ...            0         0         0         0         0   \n",
      "110         0    ...            0         0         0         0         0   \n",
      "111         0    ...            0         0         0         0         0   \n",
      "114         0    ...            0         0         0         0         0   \n",
      "118         0    ...            0         0         0         0         0   \n",
      "...       ...    ...          ...       ...       ...       ...       ...   \n",
      "41866       0    ...            0         0         0         0         0   \n",
      "41876       0    ...            0         0         0         0         0   \n",
      "41878       0    ...            0         0         0         0         0   \n",
      "41880       0    ...            0         0         0         0         0   \n",
      "41882       0    ...            0         0         0         0         0   \n",
      "41886       0    ...            0         0         0         0         0   \n",
      "41889       0    ...            0         0         0         0         0   \n",
      "41896       0    ...            0         0         0         0         0   \n",
      "41898       0    ...            0         0         0         0         0   \n",
      "41899       0    ...            0         0         0         0         0   \n",
      "41904       0    ...            0         0         0         0         0   \n",
      "41911       0    ...            0         0         0         0         0   \n",
      "41923       0    ...            0         0         0         0         0   \n",
      "41926       0    ...            0         0         0         0         0   \n",
      "41930       0    ...            0         0         0         0         0   \n",
      "41932       0    ...            0         0         0         0         0   \n",
      "41933       0    ...            0         0         0         0         0   \n",
      "41936       0    ...            0         0         0         0         0   \n",
      "41938       0    ...            0         0         0         0         0   \n",
      "41939       0    ...            0         0         0         0         0   \n",
      "41951       0    ...            0         0         0         0         0   \n",
      "41952       0    ...            0         0         0         0         0   \n",
      "41954       0    ...            0         0         0         0         0   \n",
      "41960       0    ...            0         0         0         0         0   \n",
      "41968       0    ...            0         0         0         0         0   \n",
      "41986       0    ...            0         0         0         0         0   \n",
      "41988       0    ...            0         0         0         0         0   \n",
      "41991       0    ...            0         0         0         0         0   \n",
      "41995       0    ...            0         0         0         0         0   \n",
      "41996       0    ...            0         0         0         0         0   \n",
      "\n",
      "       pixel779  pixel780  pixel781  pixel782  pixel783  \n",
      "0             0         0         0         0         0  \n",
      "1             0         0         0         0         0  \n",
      "2             0         0         0         0         0  \n",
      "4             0         0         0         0         0  \n",
      "5             0         0         0         0         0  \n",
      "12            0         0         0         0         0  \n",
      "15            0         0         0         0         0  \n",
      "17            0         0         0         0         0  \n",
      "23            0         0         0         0         0  \n",
      "35            0         0         0         0         0  \n",
      "37            0         0         0         0         0  \n",
      "38            0         0         0         0         0  \n",
      "41            0         0         0         0         0  \n",
      "52            0         0         0         0         0  \n",
      "54            0         0         0         0         0  \n",
      "59            0         0         0         0         0  \n",
      "60            0         0         0         0         0  \n",
      "61            0         0         0         0         0  \n",
      "63            0         0         0         0         0  \n",
      "68            0         0         0         0         0  \n",
      "69            0         0         0         0         0  \n",
      "77            0         0         0         0         0  \n",
      "79            0         0         0         0         0  \n",
      "96            0         0         0         0         0  \n",
      "98            0         0         0         0         0  \n",
      "108           0         0         0         0         0  \n",
      "110           0         0         0         0         0  \n",
      "111           0         0         0         0         0  \n",
      "114           0         0         0         0         0  \n",
      "118           0         0         0         0         0  \n",
      "...         ...       ...       ...       ...       ...  \n",
      "41866         0         0         0         0         0  \n",
      "41876         0         0         0         0         0  \n",
      "41878         0         0         0         0         0  \n",
      "41880         0         0         0         0         0  \n",
      "41882         0         0         0         0         0  \n",
      "41886         0         0         0         0         0  \n",
      "41889         0         0         0         0         0  \n",
      "41896         0         0         0         0         0  \n",
      "41898         0         0         0         0         0  \n",
      "41899         0         0         0         0         0  \n",
      "41904         0         0         0         0         0  \n",
      "41911         0         0         0         0         0  \n",
      "41923         0         0         0         0         0  \n",
      "41926         0         0         0         0         0  \n",
      "41930         0         0         0         0         0  \n",
      "41932         0         0         0         0         0  \n",
      "41933         0         0         0         0         0  \n",
      "41936         0         0         0         0         0  \n",
      "41938         0         0         0         0         0  \n",
      "41939         0         0         0         0         0  \n",
      "41951         0         0         0         0         0  \n",
      "41952         0         0         0         0         0  \n",
      "41954         0         0         0         0         0  \n",
      "41960         0         0         0         0         0  \n",
      "41968         0         0         0         0         0  \n",
      "41986         0         0         0         0         0  \n",
      "41988         0         0         0         0         0  \n",
      "41991         0         0         0         0         0  \n",
      "41995         0         0         0         0         0  \n",
      "41996         0         0         0         0         0  \n",
      "\n",
      "[8816 rows x 785 columns]\n"
     ]
    }
   ],
   "source": [
    "train.loc[train['label'] == 0, 'label'] = -1\n",
    "print(train)"
   ]
  },
  {
   "cell_type": "markdown",
   "metadata": {},
   "source": [
    "### Divide the train data into two set: 80% for training_set, 10% for validation_set"
   ]
  },
  {
   "cell_type": "code",
   "execution_count": 12,
   "metadata": {},
   "outputs": [
    {
     "name": "stdout",
     "output_type": "stream",
     "text": [
      "(7052, 785)\n",
      "(1764, 785)\n"
     ]
    }
   ],
   "source": [
    "training_set, validation_set = train_test_split(train, train_size=0.8, test_size=0.2, shuffle=True)\n",
    "print(training_set.shape)\n",
    "print(validation_set.shape)"
   ]
  },
  {
   "cell_type": "code",
   "execution_count": 15,
   "metadata": {},
   "outputs": [
    {
     "name": "stdout",
     "output_type": "stream",
     "text": [
      "(1, 7052)\n",
      "(7052, 784)\n"
     ]
    }
   ],
   "source": [
    "trainlabels = np.asmatrix(training_set.loc[:, 'label'])\n",
    "traindata = np.asmatrix(training_set.loc[:,'pixel0':])\n",
    "print(trainlabels.shape)\n",
    "print(traindata.shape)"
   ]
  },
  {
   "cell_type": "code",
   "execution_count": 16,
   "metadata": {},
   "outputs": [
    {
     "name": "stdout",
     "output_type": "stream",
     "text": [
      "(1, 1764)\n",
      "(1764, 784)\n"
     ]
    }
   ],
   "source": [
    "validation_labels = np.asmatrix(validation_set.loc[:, 'label'])\n",
    "validation_data = np.asmatrix(validation_set.loc[:, 'pixel0':])\n",
    "print(validation_labels.shape)\n",
    "print(validation_data.shape)"
   ]
  },
  {
   "cell_type": "code",
   "execution_count": 17,
   "metadata": {},
   "outputs": [],
   "source": [
    "def show_image(index, labels, data):\n",
    "    print(\"Label: \", 0 if labels[0, index] < 0 else 1)\n",
    "    samplerow = data[index:index+1]\n",
    "    samplerow = np.reshape(samplerow,(28,28))\n",
    "    plt.imshow(samplerow)"
   ]
  },
  {
   "cell_type": "code",
   "execution_count": 19,
   "metadata": {},
   "outputs": [
    {
     "name": "stdout",
     "output_type": "stream",
     "text": [
      "Label:  1\n"
     ]
    },
    {
     "data": {
      "image/png": "[encoded data removed]",
      "text/plain": [
       "<matplotlib.figure.Figure at 0x7f9ea73ea1d0>"
      ]
     },
     "metadata": {},
     "output_type": "display_data"
    }
   ],
   "source": [
    "show_image(1997, trainlabels, traindata)"
   ]
  },
  {
   "cell_type": "code",
   "execution_count": 20,
   "metadata": {},
   "outputs": [
    {
     "name": "stdout",
     "output_type": "stream",
     "text": [
      "(7052, 785)\n"
     ]
    }
   ],
   "source": [
    "train_bar = np.concatenate((np.ones((traindata.shape[0], 1)), traindata), axis=1)\n",
    "print(train_bar.shape)"
   ]
  },
  {
   "cell_type": "code",
   "execution_count": 124,
   "metadata": {},
   "outputs": [
    {
     "name": "stdout",
     "output_type": "stream",
     "text": [
      "(1, 7052)\n",
      "0 !!!\n",
      "1 !!!\n",
      "2 !!!\n",
      "3 !!!\n",
      "4 5 !!!\n",
      "6 !!!\n",
      "7 Weight: \n",
      "(784, 1)\n",
      "Misclassified points: \n",
      "2\n"
     ]
    }
   ],
   "source": [
    "def h(w, x):\n",
    "    return np.sign(w.T @ x)\n",
    "\n",
    "def has_converged(X, y, w):\n",
    "    return np.array_equal(h(w, X), y)\n",
    "\n",
    "# perceptron + pocket algorithm + SGD\n",
    "def perceptron(X, y, w_init):\n",
    "    w = [w_init]\n",
    "    eta = 1\n",
    "    N = X.shape[1]\n",
    "    dimen = X.shape[0]\n",
    "    misclassified_points = []\n",
    "    epoch = 0\n",
    "    \n",
    "    num_of_misclassified_points = 42000\n",
    "    w_min = [w_init]\n",
    "    while True:\n",
    "        mix_id = np.random.permutation(N)\n",
    "        for i in range(N):\n",
    "            xi = X[:, mix_id[i]].reshape((dimen, 1))\n",
    "            yi = y[0, mix_id[i]]\n",
    "            if h(w[-1], xi) != yi: # misclassified points\n",
    "                misclassified_points.append(mix_id[i])\n",
    "                w_new = w[-1] + eta*yi*xi\n",
    "                w.append(w_new)\n",
    "                \n",
    "        print(epoch, end=' ')\n",
    "        epoch += 1\n",
    "        if has_converged(X, y, w[-1]):\n",
    "            break\n",
    "        \n",
    "        if len(misclassified_points) < num_of_misclassified_points:\n",
    "            print('!!!')\n",
    "            num_of_misclassified_points = len(misclassified_points)\n",
    "            w_min = w[-1]\n",
    "            \n",
    "        misclassified_points = []\n",
    "    \n",
    "    return (w_min, misclassified_points)\n",
    "\n",
    "dimen = traindata.shape[1]\n",
    "w_init = np.random.randn(dimen, 1)\n",
    "y = np.asmatrix(trainlabels)\n",
    "print(y.shape)\n",
    "(w, m) = perceptron(traindata.T, y, w_init)\n",
    "print('Weight: ')\n",
    "print(w.shape)\n",
    "print('Misclassified points: ')\n",
    "print(len(m))"
   ]
  },
  {
   "cell_type": "code",
   "execution_count": 125,
   "metadata": {},
   "outputs": [
    {
     "name": "stdout",
     "output_type": "stream",
     "text": [
      "(784, 1)\n",
      "(2,)\n"
     ]
    }
   ],
   "source": [
    "w = np.array(w).reshape((dimen, 1))\n",
    "m = np.array(m)\n",
    "print(w.shape)\n",
    "print(m.shape)"
   ]
  },
  {
   "cell_type": "markdown",
   "metadata": {},
   "source": [
    "### Validate and calculate accuracy"
   ]
  },
  {
   "cell_type": "code",
   "execution_count": 126,
   "metadata": {},
   "outputs": [
    {
     "name": "stdout",
     "output_type": "stream",
     "text": [
      "1\n",
      "Accuracy:  99.94 %\n"
     ]
    }
   ],
   "source": [
    "def predict(w, x):\n",
    "    return 0 if int(h(w, x)) < 0 else 1\n",
    "\n",
    "def calc_validation_stats(labels, data, w):\n",
    "    mis_validation_points = 0\n",
    "#     print(labels.shape)\n",
    "#     print(data.shape)\n",
    "#     print(w.shape)\n",
    "    for index in range(data.shape[0]):\n",
    "#         clear_output()\n",
    "        predicted_digit = predict(w, data[index:index+1].T)\n",
    "        actual_digit = 0 if labels[0, index] < 0 else 1\n",
    "        \n",
    "#         print('Predicted Digit: ', predicted_digit)\n",
    "#         print('Expected Digit: ', actual_digit)\n",
    "#         show_image(index, labels, data)\n",
    "#         plt.show()\n",
    "#         time.sleep(1)\n",
    "        \n",
    "        if(predicted_digit != actual_digit):\n",
    "            mis_validation_points += 1\n",
    "            \n",
    "        accuracy = mis_validation_points / labels.shape[1]\n",
    "    \n",
    "    return (mis_validation_points, accuracy)\n",
    "    \n",
    "(mis_validation_points, accuracy) = calc_validation_stats(validation_labels, validation_data, w)\n",
    "print(mis_validation_points)\n",
    "print('Accuracy: ', 100 - np.round(accuracy*100, 2), '%')"
   ]
  },
  {
   "cell_type": "markdown",
   "metadata": {},
   "source": [
    "### Test for test set"
   ]
  },
  {
   "cell_type": "code",
   "execution_count": 127,
   "metadata": {},
   "outputs": [],
   "source": [
    "def show_test_image(index, data):\n",
    "    samplerow = data[index:index+1]\n",
    "    samplerow = np.reshape(samplerow,(28,28))\n",
    "    plt.imshow(samplerow)"
   ]
  },
  {
   "cell_type": "code",
   "execution_count": 128,
   "metadata": {},
   "outputs": [
    {
     "name": "stdout",
     "output_type": "stream",
     "text": [
      "(28000, 784)\n"
     ]
    }
   ],
   "source": [
    "test_data = np.asmatrix(test.loc[:,:])\n",
    "print(test_data.shape)"
   ]
  },
  {
   "cell_type": "code",
   "execution_count": 129,
   "metadata": {},
   "outputs": [
    {
     "name": "stdout",
     "output_type": "stream",
     "text": [
      "Predicted Digit:  0\n",
      "Expected Digit: \n"
     ]
    },
    {
     "data": {
      "image/png": "[encoded data removed]",
      "text/plain": [
       "<matplotlib.figure.Figure at 0x7f9ea6c79828>"
      ]
     },
     "metadata": {},
     "output_type": "display_data"
    }
   ],
   "source": [
    "index = 1997\n",
    "print('Predicted Digit: ', predict(w[:, -1:], test_data[index:index+1].T))\n",
    "print('Expected Digit: ')\n",
    "show_test_image(index, test_data)"
   ]
  }
 ],
 "metadata": {
  "kernelspec": {
   "display_name": "Python 3",
   "language": "python",
   "name": "python3"
  },
  "language_info": {
   "codemirror_mode": {
    "name": "ipython",
    "version": 3
   },
   "file_extension": ".py",
   "mimetype": "text/x-python",
   "name": "python",
   "nbconvert_exporter": "python",
   "pygments_lexer": "ipython3",
   "version": "3.5.2"
  },
  "varInspector": {
   "cols": {
    "lenName": 16,
    "lenType": 16,
    "lenVar": 40
   },
   "kernels_config": {
    "python": {
     "delete_cmd_postfix": "",
     "delete_cmd_prefix": "del ",
     "library": "var_list.py",
     "varRefreshCmd": "print(var_dic_list())"
    },
    "r": {
     "delete_cmd_postfix": ") ",
     "delete_cmd_prefix": "rm(",
     "library": "var_list.r",
     "varRefreshCmd": "cat(var_dic_list()) "
    }
   },
   "types_to_exclude": [
    "module",
    "function",
    "builtin_function_or_method",
    "instance",
    "_Feature"
   ],
   "window_display": false
  }
 },
 "nbformat": 4,
 "nbformat_minor": 2
}
